{
 "cells": [
  {
   "cell_type": "markdown",
   "metadata": {},
   "source": [
    "# Projeto: Obter dados de empresas da Receita Federal, limpar e formatar os dados, realizar cruzamentos simples e gerar CSV com os dados"
   ]
  },
  {
   "cell_type": "markdown",
   "metadata": {},
   "source": [
    "Bibliotecas Ultilizadas"
   ]
  },
  {
   "cell_type": "code",
   "execution_count": 7,
   "metadata": {},
   "outputs": [
    {
     "data": {
      "text/plain": [
       "true"
      ]
     },
     "execution_count": 7,
     "metadata": {},
     "output_type": "execute_result"
    }
   ],
   "source": [
    "require 'open-uri'\n",
    "require 'zip'\n",
    "require 'csv'\n",
    "require 'mongo'"
   ]
  },
  {
   "cell_type": "markdown",
   "metadata": {},
   "source": [
    "## Dowload e visualização do CSV"
   ]
  },
  {
   "cell_type": "markdown",
   "metadata": {},
   "source": [
    "#### Primeiramente é feito o Dowload dos dados por meio do site da receita federal"
   ]
  },
  {
   "cell_type": "code",
   "execution_count": 12,
   "metadata": {},
   "outputs": [
    {
     "data": {
      "text/plain": [
       "\"./Data/Estabelecimento01.zip\""
      ]
     },
     "execution_count": 12,
     "metadata": {},
     "output_type": "execute_result"
    }
   ],
   "source": [
    "url = \"http://200.152.38.155/CNPJ/K3241.K03200Y0.D20312.ESTABELE.zip\"\n",
    "zip_file_path = \"./Data/Estabelecimento01.zip\""
   ]
  },
  {
   "cell_type": "code",
   "execution_count": null,
   "metadata": {},
   "outputs": [],
   "source": [
    "def dowload(url,file_path)\n",
    "    File.open(file_path, \"wb\") do |file|\n",
    "        URI.open(url).each do |zipFile|\n",
    "            file.write(zipFile)\n",
    "        end\n",
    "    end\n",
    "end\n",
    "# Estabelecimento 01\n",
    "dowload(url,zip_file_path)"
   ]
  },
  {
   "cell_type": "markdown",
   "metadata": {},
   "source": [
    "#### Depois de ter feito o dowload é necessario extrair os arquivos que estão no formato .zip"
   ]
  },
  {
   "cell_type": "code",
   "execution_count": null,
   "metadata": {},
   "outputs": [],
   "source": [
    "def extract_zip(zip_file_path, destination)\n",
    "  \n",
    "  Zip::File.open(zip_file_path) do |zip_file|\n",
    "    zip_file.each do |f|\n",
    "      fpath = File.join(destination, \"Estabelecimento01\")\n",
    "      zip_file.extract(f, fpath) unless File.exist?(fpath)\n",
    "    end\n",
    "  end\n",
    "end\n",
    "\n",
    "extract_zip(zip_file_path,'./Data/')"
   ]
  },
  {
   "cell_type": "markdown",
   "metadata": {},
   "source": [
    "#### Visualizando as Primeiras linhas do arquivo com os seus respectivos cabeçalhos"
   ]
  },
  {
   "cell_type": "code",
   "execution_count": null,
   "metadata": {},
   "outputs": [],
   "source": [
    "headers = [\"cnpj_basico\",\"cnpj_ordem\",\"cnpj_dv\",\"identificador_matriz/filial\",\"nome_fantasia\",\"situacao_cadastral\", \"data_situacao_cadastral\", \"motivo_situacao_cadastral\", \"nome_cidade_no_exterior\",\"pais\", \"data_de_inicio_atividade\", \"cnae_fiscal_principal\", \"cnae_fiscal_secundaria\", \"tipo_de_logradouro\",\"logradouro\", \"numero\",\"complemento\" ,\"bairro\" ,\"cep\" ,\"uf\", \"municipio\", \"ddd_1\", \"telefone_1\", \"ddd_2\", \"telefone_2\",\"ddd_do_fax\" , \"fax\",\"correio_eletronico\", \"situacao_especial\", \"data_da_situacao_especial\"]\n",
    "path = './Data/Estabelecimento01'"
   ]
  },
  {
   "cell_type": "code",
   "execution_count": 10,
   "metadata": {},
   "outputs": [
    {
     "data": {
      "text/plain": [
       "#<CSV::Row cnpj_basico:36173458 cnpj_ordem:1 cnpj_dv:90 identificador_matrizfilial:1 nome_fantasia:\"\" situacao_cadastral:8.0 data_situacao_cadastral:20081231 motivo_situacao_cadastral:71 nome_cidade_no_exterior:\"\" pais:\"\" data_de_inicio_atividade:19900605 cnae_fiscal_principal:4713004 cnae_fiscal_secundaria:\"\" tipo_de_logradouro:\"RUA\" logradouro:\"CORONEL DE MATOS\" numero:45 complemento:\"SALA 201\" bairro:\"CENTRO\" cep:26262020 uf:\"RJ\" municipio:5869 ddd_1:\"\" telefone_1:\"\" ddd_2:\"\" telefone_2:\"\" ddd_do_fax:\"\" fax:\"\" correio_eletronico:\"\" situacao_especial:\"\" data_da_situacao_especial:\"\">"
      ]
     },
     "execution_count": 10,
     "metadata": {},
     "output_type": "execute_result"
    }
   ],
   "source": [
    "CSV.foreach(path,:headers => headers, :header_converters => :symbol,:converters => :all,:col_sep => \";\").first()"
   ]
  },
  {
   "cell_type": "markdown",
   "metadata": {},
   "source": [
    "## Convertendo o CSV em Hashes e inserindo no MongoDb"
   ]
  },
  {
   "cell_type": "markdown",
   "metadata": {},
   "source": [
    "Definindo Database e collection"
   ]
  },
  {
   "cell_type": "code",
   "execution_count": null,
   "metadata": {},
   "outputs": [],
   "source": [
    "client = Mongo::Client.new([ '127.0.0.1:27017' ], :database => 'DadosPublicosCNPJ')\n",
    "db = client.database\n",
    "collection = client[:Estabelecimento01]"
   ]
  },
  {
   "cell_type": "markdown",
   "metadata": {},
   "source": [
    "definindo as funções responsaveis por converter os campos de data e conversão das linhas em hashs para depois realizar a remoção dos campos invalidos"
   ]
  },
  {
   "cell_type": "code",
   "execution_count": null,
   "metadata": {},
   "outputs": [],
   "source": [
    "campos_date = [:data_de_inicio_atividade,:data_situacao_cadastral,:data_da_situacao_especial]\n",
    "\n",
    "def converterDatas(hash,campos)\n",
    "    for campo in campos\n",
    "        unless (hash[campo].nil? || hash[campo] == \"0\")\n",
    "            hash[campo] = Date.strptime(hash[campo].to_s,'%Y%m%d')\n",
    "        end\n",
    "    end\n",
    "end\n",
    "\n",
    "def clean_hash_chunk(chunk,campos_date) # realiza a remoção dos campos invalidos e chama a função de converter data para a lista de linhas\n",
    "    clean_hash_chunk = []\n",
    "    for linha in chunk\n",
    "        linha = (linha.to_hash).compact # converte a linha em hash e remove os campos invalidos\n",
    "        linha.reject! { |key, value| value == \"\" || value == nil || (key == (:data_situacao_cadastral) && (value == \"0\" || value == 0))}\n",
    "        converterDatas(linha,campos_date)\n",
    "        clean_hash_chunk << linha # depois de limpar os campos do hash armazena em uma lista com os novos valores\n",
    "    end\n",
    "    return clean_hash_chunk\n",
    "end"
   ]
  },
  {
   "cell_type": "markdown",
   "metadata": {},
   "source": [
    "Como o arquivo é muito grande a leitura do arquivo foi feita uma linha de cada vez, escolhi realizar um armazenamento na memória por meio de pedaços(chunks) de 20000 linhas, para depois realizar a conversão em hashes e tratamento dos campos, dessa forma o processamento dos dados é mais rápido.\n",
    "Logo apos esse procedimento é inserido a lista de hashes no MongoDb."
   ]
  },
  {
   "cell_type": "code",
   "execution_count": null,
   "metadata": {},
   "outputs": [],
   "source": [
    "chunk = []\n",
    "\n",
    "CSV.foreach(path,\"rb\",liberal_parsing: true,encoding: 'iso-8859-1:utf-8',:headers => headers, :header_converters => :symbol,:col_sep => \";\") do |linha|\n",
    "\n",
    "    chunk << linha\n",
    "\n",
    "    if chunk.size >= 20000 # armazenando a lista de hashes na memoria em chunks de 20000 linhas, para tornar o processamento mais rapido\n",
    "        chunk = clean_hash_chunk(chunk,campos_date)\n",
    "        collection.insert_many(chunk)\n",
    "        chunk = []\n",
    "    end\n",
    "end\n",
    "collection.insert_many(chunk)"
   ]
  },
  {
   "cell_type": "markdown",
   "metadata": {},
   "source": [
    "## Descobrindo a % das Empresas Ativas"
   ]
  },
  {
   "cell_type": "code",
   "execution_count": 21,
   "metadata": {},
   "outputs": [
    {
     "name": "stdout",
     "output_type": "stream",
     "text": [
      "Empresas Ativas: 4022454\n",
      "Total Empresas: 9079426\n",
      "Porcentagem de ativas: 44.3%\n"
     ]
    }
   ],
   "source": [
    "empresasAtivas = collection.find({\"situacao_cadastral\":\"02\"}).count()\n",
    "totalEmpresas = collection.find().count()\n",
    "percentual_empresas_ativas = ((empresasAtivas.to_f/totalEmpresas)*100).round(2)\n",
    "\n",
    "puts(\"Empresas Ativas: #{empresasAtivas}\")\n",
    "puts(\"Total Empresas: #{totalEmpresas}\")\n",
    "puts(\"Porcentagem de ativas: #{percentual_empresas_ativas}%\")\n"
   ]
  },
  {
   "cell_type": "markdown",
   "metadata": {},
   "source": [
    "## Quantas empresas do setor de restaurantes foram abertas em cada ano ?"
   ]
  },
  {
   "cell_type": "markdown",
   "metadata": {},
   "source": [
    "É primeiro feita a seleção das empresas que são restaurante e em sequencia é feito um agrupamento de acordo com o ano, selecionando os campos que vão ser mantidos, e por fim o resultado vai ser uma nova collection com o nome de \"RestaurantesAbertosPorAno\""
   ]
  },
  {
   "cell_type": "code",
   "execution_count": 19,
   "metadata": {},
   "outputs": [
    {
     "data": {
      "text/plain": [
       "[{\"_id\"=>BSON::ObjectId('625db553f26c27611faf9fa6'), \"RestaurantesAbertos\"=>979, \"Ano\"=>1976}, {\"_id\"=>BSON::ObjectId('625db553f26c27611faf9fa7'), \"RestaurantesAbertos\"=>1, \"Ano\"=>1962}, {\"_id\"=>BSON::ObjectId('625db553f26c27611faf9fa8'), \"RestaurantesAbertos\"=>26309, \"Ano\"=>2009}, {\"_id\"=>BSON::ObjectId('625db553f26c27611faf9fa9'), \"RestaurantesAbertos\"=>5108, \"Ano\"=>1992}]"
      ]
     },
     "execution_count": 19,
     "metadata": {},
     "output_type": "execute_result"
    }
   ],
   "source": [
    "aggregate = collection.aggregate([\n",
    "    {\"$match\" => {\"cnae_fiscal_principal\" => {\"$regex\" => /^561/}}},\n",
    "    {\"$group\" => {\"_id\" => {\"$year\" => \"$data_de_inicio_atividade\"}, \"RestaurantesAbertos\" => {\"$sum\" => 1}}},\n",
    "    { \"$project\": {_id: 0, RestaurantesAbertos: 1, Ano: \"$_id\"}},\n",
    "    {\"$out\" => \"RestaurantesAbertosPorAno\"}\n",
    "    ])\n",
    "\n",
    "client[:RestaurantesAbertosPorAno].find().first(4) do |documento| # apenas para visualização\n",
    "    p documento\n",
    "end"
   ]
  },
  {
   "cell_type": "markdown",
   "metadata": {},
   "source": [
    "## Passando os resultados para um arquivo csv"
   ]
  },
  {
   "cell_type": "markdown",
   "metadata": {},
   "source": [
    "Gerando CSV com as informações descobertas sobre restaurantes abertos por ano"
   ]
  },
  {
   "cell_type": "code",
   "execution_count": null,
   "metadata": {},
   "outputs": [],
   "source": [
    "CSV.open(\"./Data/RestaurantesAbertosPorAno.csv\",'wb') do |csv|\n",
    "    csv << [\"Ano\",\"RestaurantesAbertos\"]\n",
    "    collection2.find().each do |document|\n",
    "        csv << [document[\"Ano\"],document[\"RestaurantesAbertos\"]]\n",
    "    end\n",
    "end"
   ]
  },
  {
   "cell_type": "markdown",
   "metadata": {},
   "source": [
    "Visualizando o Arquivo criado"
   ]
  },
  {
   "cell_type": "code",
   "execution_count": 40,
   "metadata": {},
   "outputs": [
    {
     "name": "stdout",
     "output_type": "stream",
     "text": [
      "[\"Ano\", \"RestaurantesAbertos\"]\n",
      "[\"1962\", \"1\"]\n",
      "[\"1976\", \"979\"]\n",
      "[\"1992\", \"5108\"]\n",
      "[\"2009\", \"26309\"]\n",
      "[\"1991\", \"5948\"]\n",
      "[\"1968\", \"312\"]\n",
      "[\"1966\", \"1128\"]\n",
      "[\"2011\", \"52075\"]\n",
      "[\"1988\", \"4219\"]\n",
      "[\"2003\", \"4476\"]\n",
      "[\"1987\", \"4165\"]\n",
      "[\"2007\", \"21559\"]\n",
      "[\"1975\", \"786\"]\n",
      "[\"1923\", \"1\"]\n",
      "[\"2019\", \"66186\"]\n",
      "[\"1961\", \"2\"]\n",
      "[\"2008\", \"23145\"]\n",
      "[\"2006\", \"13622\"]\n",
      "[\"2015\", \"57660\"]\n",
      "[\"2002\", \"4763\"]\n",
      "[\"1993\", \"5569\"]\n",
      "[\"1999\", \"5465\"]\n",
      "[\"1972\", \"592\"]\n",
      "[\"1971\", \"554\"]\n",
      "[\"1973\", \"701\"]\n",
      "[\"1994\", \"5545\"]\n",
      "[\"1989\", \"5116\"]\n",
      "[\"1998\", \"5138\"]\n",
      "[\"1985\", \"2951\"]\n",
      "[\"1969\", \"406\"]\n",
      "[\"1995\", \"5303\"]\n",
      "[\"1958\", \"2\"]\n",
      "[\"1980\", \"1884\"]\n",
      "[\"1964\", \"1\"]\n",
      "[\"1959\", \"2\"]\n",
      "[\"2000\", \"5044\"]\n",
      "[\"1983\", \"2385\"]\n",
      "[\"1967\", \"281\"]\n",
      "[\"1984\", \"2407\"]\n",
      "[\"2004\", \"4834\"]\n",
      "[\"2010\", \"46812\"]\n",
      "[\"2016\", \"54223\"]\n",
      "[\"1979\", \"1876\"]\n",
      "[\"1986\", \"4846\"]\n",
      "[\"1960\", \"3\"]\n",
      "[\"1978\", \"1717\"]\n",
      "[\"2005\", \"5408\"]\n",
      "[\"1996\", \"5035\"]\n",
      "[\"1956\", \"1\"]\n",
      "[\"1977\", \"1929\"]\n",
      "[\"2012\", \"52543\"]\n",
      "[\"2014\", \"56805\"]\n",
      "[\"1974\", \"681\"]\n",
      "[\"1970\", \"347\"]\n",
      "[\"2013\", \"58113\"]\n",
      "[\"2018\", \"60008\"]\n",
      "[\"1981\", \"1872\"]\n",
      "[\"1982\", \"2134\"]\n",
      "[\"1953\", \"1\"]\n",
      "[\"1990\", \"5830\"]\n",
      "[\"1965\", \"36\"]\n",
      "[\"2020\", \"53284\"]\n",
      "[\"2017\", \"57022\"]\n",
      "[\"2001\", \"5039\"]\n",
      "[\"1997\", \"5462\"]\n",
      "[\"1955\", \"2\"]\n",
      "[\"1957\", \"1\"]\n",
      "[\"1948\", \"1\"]\n"
     ]
    },
    {
     "data": {
      "text/plain": [
       "671"
      ]
     },
     "execution_count": 40,
     "metadata": {},
     "output_type": "execute_result"
    }
   ],
   "source": [
    "CSV.foreach(\"./Data/RestaurantesAbertosPorAno.csv\",\"rb\") do |line|\n",
    "    p line\n",
    "end"
   ]
  },
  {
   "cell_type": "markdown",
   "metadata": {},
   "source": [
    "Gerando CSV com informações da porcentagem de empresas ativas em relação ao total de empresas no arquivo \"Empresa01\""
   ]
  },
  {
   "cell_type": "code",
   "execution_count": null,
   "metadata": {},
   "outputs": [],
   "source": [
    "CSV.open(\"./Data/Percentual_empresas_ativas.csv\",'wb') do |csv|\n",
    "    csv << [\"Arquivo\",\"Total_de_Empresas\",\"EmpresasAtivas\",\"Percentual_de_Empresas_Ativas\"]\n",
    "    csv << [\"Empresa01\",totalEmpresas,empresasAtivas,percentual_empresas_ativas]\n",
    "end"
   ]
  },
  {
   "cell_type": "markdown",
   "metadata": {},
   "source": [
    "Visualizando o arquivo criado"
   ]
  },
  {
   "cell_type": "code",
   "execution_count": 29,
   "metadata": {},
   "outputs": [
    {
     "name": "stdout",
     "output_type": "stream",
     "text": [
      "[\"Arquivo\", \"Total_de_Empresas\", \"EmpresasAtivas\", \"Percentual_de_Empresas_Ativas\"]\n",
      "[\"Empresa01\", \"9079426\", \"4022454\", \"44.3\"]\n"
     ]
    },
    {
     "data": {
      "text/plain": [
       "102"
      ]
     },
     "execution_count": 29,
     "metadata": {},
     "output_type": "execute_result"
    }
   ],
   "source": [
    "CSV.foreach(\"./Data/Percentual_empresas_ativas.csv\",\"rb\") do |line|\n",
    "    p line\n",
    "end"
   ]
  }
 ],
 "metadata": {
  "kernelspec": {
   "display_name": "Ruby 3.1.1",
   "language": "ruby",
   "name": "ruby"
  },
  "language_info": {
   "file_extension": ".rb",
   "mimetype": "application/x-ruby",
   "name": "ruby",
   "version": "3.1.1"
  },
  "orig_nbformat": 4
 },
 "nbformat": 4,
 "nbformat_minor": 2
}
